{
 "cells": [
  {
   "cell_type": "code",
   "execution_count": 1,
   "id": "recovered-public",
   "metadata": {},
   "outputs": [
    {
     "name": "stdout",
     "output_type": "stream",
     "text": [
      "Сбер Банк - привилегированные акции\n",
      "figi=BBG0047315Y7\n",
      "Роснефть\n",
      "figi=BBG004731354\n",
      "ЛУКОЙЛ\n",
      "figi=BBG004731032\n",
      "РУСАЛ\n",
      "figi=BBG008F2T3T2\n",
      "Доллар США\n",
      "figi=BBG0013HGFT4\n"
     ]
    }
   ],
   "source": [
    "from TinkoffAPI_module.client import MyClient\n",
    "\n",
    "client = MyClient()\n",
    "for stock, info in client.get_my_stocks().items():\n",
    "    print(stock)\n",
    "    print(f\"figi={info['figi']}\")"
   ]
  },
  {
   "cell_type": "code",
   "execution_count": 2,
   "id": "presidential-turkish",
   "metadata": {},
   "outputs": [
    {
     "name": "stdout",
     "output_type": "stream",
     "text": [
      "Succesfully made market order to sell stock with figi = BBG008F2T3T2\n"
     ]
    },
    {
     "data": {
      "text/plain": [
       "{'payload': {'commission': {'currency': 'RUB', 'value': 0.0},\n",
       "             'executed_lots': 1,\n",
       "             'message': None,\n",
       "             'operation': 'Sell',\n",
       "             'order_id': '31286233655',\n",
       "             'reject_reason': None,\n",
       "             'requested_lots': 1,\n",
       "             'status': 'Fill'},\n",
       " 'status': 'Ok',\n",
       " 'tracking_id': '3be9824256ac76e6'}"
      ]
     },
     "execution_count": 2,
     "metadata": {},
     "output_type": "execute_result"
    }
   ],
   "source": [
    "client.sell_stock(figi=\"BBG008F2T3T2\", lots=1)"
   ]
  },
  {
   "cell_type": "code",
   "execution_count": 3,
   "id": "associate-secondary",
   "metadata": {},
   "outputs": [
    {
     "name": "stdout",
     "output_type": "stream",
     "text": [
      "Succesfully made market order to buy stock with figi = BBG008F2T3T2\n"
     ]
    },
    {
     "data": {
      "text/plain": [
       "{'payload': {'commission': {'currency': 'RUB', 'value': 0.0},\n",
       "             'executed_lots': 1,\n",
       "             'message': None,\n",
       "             'operation': 'Buy',\n",
       "             'order_id': '31286263310',\n",
       "             'reject_reason': None,\n",
       "             'requested_lots': 1,\n",
       "             'status': 'Fill'},\n",
       " 'status': 'Ok',\n",
       " 'tracking_id': '19522ed451d3b843'}"
      ]
     },
     "execution_count": 3,
     "metadata": {},
     "output_type": "execute_result"
    }
   ],
   "source": [
    "client.buy_stock(figi=\"BBG008F2T3T2\", lots=1)"
   ]
  },
  {
   "cell_type": "code",
   "execution_count": 1,
   "id": "built-photographer",
   "metadata": {},
   "outputs": [
    {
     "name": "stderr",
     "output_type": "stream",
     "text": [
      "c:\\users\\иван\\appdata\\local\\programs\\python\\python38\\lib\\site-packages\\torch\\nn\\modules\\loss.py:529: UserWarning: Using a target size (torch.Size([1, 1])) that is different to the input size (torch.Size([1])). This will likely lead to incorrect results due to broadcasting. Please ensure they have the same size.\n",
      "  return F.mse_loss(input, target, reduction=self.reduction)\n"
     ]
    },
    {
     "name": "stdout",
     "output_type": "stream",
     "text": [
      "Epoch: 0 | Loss: 0.00020972549100406468\n",
      "Epoch: 1 | Loss: 0.00029651474324055016\n",
      "Epoch: 2 | Loss: 0.00010695576929720119\n",
      "Epoch: 3 | Loss: 0.0004914933815598488\n",
      "Epoch: 4 | Loss: 0.00029217888368293643\n",
      "Epoch: 5 | Loss: 0.0005879367818124592\n",
      "Epoch: 6 | Loss: 0.0003330511972308159\n",
      "Epoch: 7 | Loss: 0.00017450563609600067\n",
      "Epoch: 8 | Loss: 9.88385290838778e-05\n",
      "Epoch: 9 | Loss: 6.46992921247147e-05\n",
      "Epoch: 10 | Loss: 5.045382567914203e-05\n",
      "Epoch: 11 | Loss: 4.587184594129212e-05\n",
      "Epoch: 12 | Loss: 4.633645949070342e-05\n",
      "Epoch: 13 | Loss: 4.973076647729613e-05\n",
      "Epoch: 14 | Loss: 5.496538142324425e-05\n",
      "Epoch: 15 | Loss: 6.12635412835516e-05\n",
      "Epoch: 16 | Loss: 6.810673221480101e-05\n",
      "Epoch: 17 | Loss: 7.504651148337871e-05\n",
      "Epoch: 18 | Loss: 8.177976997103542e-05\n",
      "Epoch: 19 | Loss: 8.804559183772653e-05\n",
      "Epoch: 20 | Loss: 9.367534221382812e-05\n",
      "Epoch: 21 | Loss: 9.853891242528334e-05\n",
      "Epoch: 22 | Loss: 0.00010258043766953051\n",
      "Epoch: 23 | Loss: 0.0001057914414559491\n",
      "Epoch: 24 | Loss: 0.00010824054334079847\n",
      "Epoch: 25 | Loss: 0.00011004885891452432\n",
      "Epoch: 26 | Loss: 0.00011138724948978052\n",
      "Epoch: 27 | Loss: 0.0001124554401030764\n",
      "Epoch: 28 | Loss: 0.00011343856021994725\n",
      "Epoch: 29 | Loss: 0.00011447952419985086\n",
      "Epoch: 30 | Loss: 0.0001156316211563535\n",
      "Epoch: 31 | Loss: 0.00011683972843457013\n",
      "Epoch: 32 | Loss: 0.00011792980512836948\n",
      "Epoch: 33 | Loss: 0.00011864028783747926\n",
      "Epoch: 34 | Loss: 0.00011870522575918585\n",
      "Epoch: 35 | Loss: 0.0001179259197670035\n",
      "Epoch: 36 | Loss: 0.00011624645412666723\n",
      "Epoch: 37 | Loss: 0.00011372823064448312\n",
      "Epoch: 38 | Loss: 0.00011053084745071828\n",
      "Epoch: 39 | Loss: 0.0001068694909918122\n",
      "Epoch: 40 | Loss: 0.00010297320841345936\n",
      "Epoch: 41 | Loss: 9.904128819471225e-05\n",
      "Epoch: 42 | Loss: 9.521847823634744e-05\n",
      "Epoch: 43 | Loss: 9.159749606624246e-05\n",
      "Epoch: 44 | Loss: 8.8223532657139e-05\n",
      "Epoch: 45 | Loss: 8.511621854268014e-05\n",
      "Epoch: 46 | Loss: 8.227533544413745e-05\n",
      "Epoch: 47 | Loss: 7.968791760504246e-05\n",
      "Epoch: 48 | Loss: 7.734194514341652e-05\n",
      "Epoch: 49 | Loss: 7.521700899815187e-05\n",
      "Epoch: 50 | Loss: 7.329403888434172e-05\n",
      "Epoch: 51 | Loss: 7.156126230256632e-05\n",
      "Epoch: 52 | Loss: 7.00007367413491e-05\n",
      "Epoch: 53 | Loss: 6.85985287418589e-05\n",
      "Epoch: 54 | Loss: 6.734153430443257e-05\n",
      "Epoch: 55 | Loss: 6.622220826102421e-05\n",
      "Epoch: 56 | Loss: 6.522389594465494e-05\n",
      "Epoch: 57 | Loss: 6.434117676690221e-05\n",
      "Epoch: 58 | Loss: 6.356611993396655e-05\n",
      "Epoch: 59 | Loss: 6.288932490861043e-05\n",
      "Epoch: 60 | Loss: 6.230267899809405e-05\n",
      "Epoch: 61 | Loss: 6.17993573541753e-05\n",
      "Epoch: 62 | Loss: 6.137556192697957e-05\n",
      "Epoch: 63 | Loss: 6.102304905653e-05\n",
      "Epoch: 64 | Loss: 6.0734710132237524e-05\n",
      "Epoch: 65 | Loss: 6.0505455621751025e-05\n",
      "Epoch: 66 | Loss: 6.0330330597935244e-05\n",
      "Epoch: 67 | Loss: 6.020354339852929e-05\n",
      "Epoch: 68 | Loss: 6.012217636452988e-05\n",
      "Epoch: 69 | Loss: 6.00759667577222e-05\n",
      "Epoch: 70 | Loss: 6.006303374306299e-05\n",
      "Epoch: 71 | Loss: 6.00759667577222e-05\n",
      "Epoch: 72 | Loss: 6.0112008213764057e-05\n",
      "Epoch: 73 | Loss: 6.016285260557197e-05\n",
      "Epoch: 74 | Loss: 6.022574598318897e-05\n",
      "Epoch: 75 | Loss: 6.029514770489186e-05\n",
      "Epoch: 76 | Loss: 6.0366444813553244e-05\n",
      "Epoch: 77 | Loss: 6.0435930208768696e-05\n",
      "Epoch: 78 | Loss: 6.0498037782963365e-05\n",
      "Epoch: 79 | Loss: 6.055182893760502e-05\n",
      "Epoch: 80 | Loss: 6.059079532860778e-05\n",
      "Epoch: 81 | Loss: 6.061492604203522e-05\n",
      "Epoch: 82 | Loss: 6.062141983420588e-05\n",
      "Epoch: 83 | Loss: 6.0608428611885756e-05\n",
      "Epoch: 84 | Loss: 6.0574093367904425e-05\n",
      "Epoch: 85 | Loss: 6.0519367252709344e-05\n",
      "Epoch: 86 | Loss: 6.044149267836474e-05\n",
      "Epoch: 87 | Loss: 6.034422040102072e-05\n",
      "Epoch: 88 | Loss: 6.022389425197616e-05\n",
      "Epoch: 89 | Loss: 6.008151103742421e-05\n",
      "Epoch: 90 | Loss: 5.9920839703409e-05\n",
      "Epoch: 91 | Loss: 5.97391881456133e-05\n",
      "Epoch: 92 | Loss: 5.9540336224017665e-05\n",
      "Epoch: 93 | Loss: 5.932528802077286e-05\n",
      "Epoch: 94 | Loss: 5.909871106268838e-05\n",
      "Epoch: 95 | Loss: 5.8863424783339724e-05\n",
      "Epoch: 96 | Loss: 5.862221587449312e-05\n",
      "Epoch: 97 | Loss: 5.837968274136074e-05\n",
      "Epoch: 98 | Loss: 5.8143104979535565e-05\n",
      "Epoch: 99 | Loss: 5.7914265198633075e-05\n",
      "Epoch: 100 | Loss: 5.769855124526657e-05\n",
      "Epoch: 101 | Loss: 5.75013218622189e-05\n",
      "Epoch: 102 | Loss: 5.732698991778307e-05\n",
      "Epoch: 103 | Loss: 5.717815656680614e-05\n",
      "Epoch: 104 | Loss: 5.705833245883696e-05\n",
      "Epoch: 105 | Loss: 5.697102096746676e-05\n",
      "Epoch: 106 | Loss: 5.6915247114375234e-05\n",
      "Epoch: 107 | Loss: 5.6890967243816704e-05\n",
      "Epoch: 108 | Loss: 5.690265606972389e-05\n",
      "Epoch: 109 | Loss: 5.6945827964227647e-05\n",
      "Epoch: 110 | Loss: 5.702232010662556e-05\n",
      "Epoch: 111 | Loss: 5.713039354304783e-05\n",
      "Epoch: 112 | Loss: 5.726833478547633e-05\n",
      "Epoch: 113 | Loss: 5.7437158829998225e-05\n",
      "Epoch: 114 | Loss: 5.763247099821456e-05\n",
      "Epoch: 115 | Loss: 5.785259054391645e-05\n",
      "Epoch: 116 | Loss: 5.81003914703615e-05\n",
      "Epoch: 117 | Loss: 5.837057324242778e-05\n",
      "Epoch: 118 | Loss: 5.86632959311828e-05\n",
      "Epoch: 119 | Loss: 5.897688970435411e-05\n",
      "Epoch: 120 | Loss: 5.930876068305224e-05\n",
      "Epoch: 121 | Loss: 5.966273965896107e-05\n",
      "Epoch: 122 | Loss: 6.003162343404256e-05\n",
      "Epoch: 123 | Loss: 6.041925007593818e-05\n",
      "Epoch: 124 | Loss: 6.082114123273641e-05\n",
      "Epoch: 125 | Loss: 6.123742059571669e-05\n",
      "Epoch: 126 | Loss: 6.167009996715933e-05\n",
      "Epoch: 127 | Loss: 6.211275467649102e-05\n",
      "Epoch: 128 | Loss: 6.257019413169473e-05\n",
      "Epoch: 129 | Loss: 6.303688132902607e-05\n",
      "Epoch: 130 | Loss: 6.351575575536117e-05\n",
      "Epoch: 131 | Loss: 6.400312122423202e-05\n",
      "Epoch: 132 | Loss: 6.450096407206729e-05\n",
      "Epoch: 133 | Loss: 6.500745803350583e-05\n",
      "Epoch: 134 | Loss: 6.5522690420039e-05\n",
      "Epoch: 135 | Loss: 6.604383088415489e-05\n",
      "Epoch: 136 | Loss: 6.657190533587709e-05\n",
      "Epoch: 137 | Loss: 6.7105982452631e-05\n",
      "Epoch: 138 | Loss: 6.764905265299603e-05\n",
      "Epoch: 139 | Loss: 6.819530244683847e-05\n",
      "Epoch: 140 | Loss: 6.874671089462936e-05\n",
      "Epoch: 141 | Loss: 6.930332165211439e-05\n",
      "Epoch: 142 | Loss: 6.986317021073774e-05\n",
      "Epoch: 143 | Loss: 7.042627112241462e-05\n",
      "Epoch: 144 | Loss: 7.099463982740417e-05\n",
      "Epoch: 145 | Loss: 7.156328501878306e-05\n",
      "Epoch: 146 | Loss: 7.213823846541345e-05\n",
      "Epoch: 147 | Loss: 7.271244976436719e-05\n",
      "Epoch: 148 | Loss: 7.328893843805417e-05\n",
      "Epoch: 149 | Loss: 7.386974903056398e-05\n",
      "Epoch: 150 | Loss: 7.445079972967505e-05\n",
      "Epoch: 151 | Loss: 7.503102096961811e-05\n",
      "Epoch: 152 | Loss: 7.56145382183604e-05\n",
      "Epoch: 153 | Loss: 7.619823009008542e-05\n",
      "Epoch: 154 | Loss: 7.678312249481678e-05\n",
      "Epoch: 155 | Loss: 7.736815314274281e-05\n",
      "Epoch: 156 | Loss: 7.795225246809423e-05\n",
      "Epoch: 157 | Loss: 7.853748684283346e-05\n",
      "Epoch: 158 | Loss: 7.912384899100289e-05\n",
      "Epoch: 159 | Loss: 7.97070752014406e-05\n",
      "Epoch: 160 | Loss: 8.029030141187832e-05\n",
      "Epoch: 161 | Loss: 8.087458263617009e-05\n",
      "Epoch: 162 | Loss: 8.145882748067379e-05\n",
      "Epoch: 163 | Loss: 8.203978359233588e-05\n",
      "Epoch: 164 | Loss: 8.262171468231827e-05\n",
      "Epoch: 165 | Loss: 8.320352935697883e-05\n",
      "Epoch: 166 | Loss: 8.378193160751835e-05\n",
      "Epoch: 167 | Loss: 8.436123607680202e-05\n",
      "Epoch: 168 | Loss: 8.493814675603062e-05\n",
      "Epoch: 169 | Loss: 8.551371865905821e-05\n",
      "Epoch: 170 | Loss: 8.608790813013911e-05\n",
      "Epoch: 171 | Loss: 8.666069334140047e-05\n",
      "Epoch: 172 | Loss: 8.72331511345692e-05\n",
      "Epoch: 173 | Loss: 8.780414646025747e-05\n",
      "Epoch: 174 | Loss: 8.837363566271961e-05\n",
      "Epoch: 175 | Loss: 8.894159691408277e-05\n",
      "Epoch: 176 | Loss: 8.950799383455887e-05\n",
      "Epoch: 177 | Loss: 9.007392509374768e-05\n",
      "Epoch: 178 | Loss: 9.063596371561289e-05\n",
      "Epoch: 179 | Loss: 9.119861351791769e-05\n",
      "Epoch: 180 | Loss: 9.175958257401362e-05\n",
      "Epoch: 181 | Loss: 9.231882722815499e-05\n",
      "Epoch: 182 | Loss: 9.287518332712352e-05\n",
      "Epoch: 183 | Loss: 9.34332056203857e-05\n",
      "Epoch: 184 | Loss: 9.398827387485653e-05\n",
      "Epoch: 185 | Loss: 9.454035898670554e-05\n",
      "Epoch: 186 | Loss: 9.509405208518729e-05\n",
      "Epoch: 187 | Loss: 9.564236825099215e-05\n",
      "Epoch: 188 | Loss: 9.61910918704234e-05\n",
      "Epoch: 189 | Loss: 9.673904423834756e-05\n",
      "Epoch: 190 | Loss: 9.728384611662477e-05\n",
      "Epoch: 191 | Loss: 9.782899724086747e-05\n",
      "Epoch: 192 | Loss: 9.837213292485103e-05\n",
      "Epoch: 193 | Loss: 9.891438821796328e-05\n",
      "Epoch: 194 | Loss: 9.94545771391131e-05\n",
      "Epoch: 195 | Loss: 9.999384928960353e-05\n",
      "Epoch: 196 | Loss: 0.00010053099686047062\n",
      "Epoch: 197 | Loss: 0.00010106837726198137\n",
      "Epoch: 198 | Loss: 0.00010160358942812309\n",
      "Epoch: 199 | Loss: 0.00010213780478807166\n"
     ]
    }
   ],
   "source": [
    "from dataproccesing import dp \n",
    "from model import model\n",
    "from datetime import datetime\n",
    "import torch\n",
    "from torch.optim import Adam\n",
    "\n",
    "loss_fn = torch.nn.MSELoss(reduction=\"mean\")\n",
    "m = model.GRU(\n",
    "    input_dim = 19,\n",
    "    hidden_dim = 20,\n",
    "    num_layers = 1,\n",
    "    output_dim = 1\n",
    ")\n",
    "opt_adam = Adam(m.parameters())\n",
    "lr_scheduler = torch.optim.lr_scheduler.CosineAnnealingLR(opt_adam, 10, eta_min=0, last_epoch=- 1, verbose=False)\n",
    "\n",
    "start = datetime(2018, 1, 1)\n",
    "train_dl, test_dl = dp.get_dataloaders(\"SBER.ME\", start, 20, 50)\n",
    "losses = model.train(m, train_dl, 200, opt_adam, loss_fn)"
   ]
  },
  {
   "cell_type": "code",
   "execution_count": 2,
   "id": "dependent-repair",
   "metadata": {},
   "outputs": [],
   "source": [
    "def test(model,\n",
    "         test_dl: torch.utils.data.DataLoader):\n",
    "    r\"\"\"\n",
    "\n",
    "    Args:\n",
    "        model:\n",
    "        test_dl:\n",
    "        metrics:\n",
    "        metrics_funcs:\n",
    "\n",
    "    Returns:\n",
    "        predictions: list of predictions for testing data\n",
    "        true_values: list of true labels for testing data\n",
    "\n",
    "    Testing cycle for HailNet\n",
    "\n",
    "    \"\"\"\n",
    "    device = torch.device('cuda' if torch.cuda.is_available() else 'cpu')\n",
    "    with torch.no_grad():\n",
    "        model.eval()\n",
    "        predictions = []\n",
    "        true_values = []\n",
    "        for xt, yt in test_dl:\n",
    "            xt, yt = xt.to(device), yt.to(device)\n",
    "            predictions.append(model(xt))\n",
    "            true_values.append(yt)\n",
    "    return predictions, true_values"
   ]
  },
  {
   "cell_type": "code",
   "execution_count": 5,
   "id": "ceramic-parcel",
   "metadata": {},
   "outputs": [],
   "source": [
    "preds, true_values = test(m, test_dl)"
   ]
  },
  {
   "cell_type": "code",
   "execution_count": 9,
   "id": "bearing-skirt",
   "metadata": {},
   "outputs": [
    {
     "name": "stdout",
     "output_type": "stream",
     "text": [
      "tensor([[231.9000, 238.8000, 238.6000, 240.4000, 237.7600, 239.0000, 237.7500,\n",
      "         238.8500, 239.6400, 239.8200, 245.5000, 242.4500, 243.9900, 247.5300,\n",
      "         250.6400, 247.0000, 250.4800, 257.8000, 264.5000]])\n",
      "tensor([[263.2000]])\n"
     ]
    }
   ],
   "source": [
    "for x, y in train_dl:\n",
    "    print(x)\n",
    "    print(y)\n",
    "    break"
   ]
  },
  {
   "cell_type": "code",
   "execution_count": 6,
   "id": "irish-connection",
   "metadata": {},
   "outputs": [
    {
     "data": {
      "image/png": "[encoded data removed]",
      "text/plain": [
       "<Figure size 1152x720 with 1 Axes>"
      ]
     },
     "metadata": {
      "needs_background": "light"
     },
     "output_type": "display_data"
    }
   ],
   "source": [
    "import matplotlib.pyplot as plt\n",
    "plt.figure(figsize=(16, 10))\n",
    "plt.plot([i for i in range(len(preds))], preds, label=\"predicted\")\n",
    "plt.plot([i for i in range(len(preds))], true_values, label=\"real\")\n",
    "plt.legend()\n",
    "\n",
    "plt.grid()\n",
    "plt.show()"
   ]
  },
  {
   "cell_type": "code",
   "execution_count": null,
   "id": "invalid-flesh",
   "metadata": {},
   "outputs": [],
   "source": []
  }
 ],
 "metadata": {
  "kernelspec": {
   "display_name": "Python 3",
   "language": "python",
   "name": "python3"
  },
  "language_info": {
   "codemirror_mode": {
    "name": "ipython",
    "version": 3
   },
   "file_extension": ".py",
   "mimetype": "text/x-python",
   "name": "python",
   "nbconvert_exporter": "python",
   "pygments_lexer": "ipython3",
   "version": "3.8.8"
  }
 },
 "nbformat": 4,
 "nbformat_minor": 5
}
